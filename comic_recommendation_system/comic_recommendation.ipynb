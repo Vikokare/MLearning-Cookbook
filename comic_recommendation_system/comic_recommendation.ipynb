{
  "cells": [
    {
      "cell_type": "code",
      "execution_count": 1,
      "metadata": {
        "id": "hfawxMiKYmzt"
      },
      "outputs": [],
      "source": [
        "import pandas as pd\n",
        "import numpy as np\n"
      ]
    },
    {
      "cell_type": "code",
      "execution_count": 2,
      "metadata": {
        "id": "mJy1oRPkaJCz"
      },
      "outputs": [],
      "source": [
        "comic = pd.read_csv('comics_data.csv')"
      ]
    },
    {
      "cell_type": "code",
      "execution_count": 3,
      "metadata": {
        "id": "9wJwRzknboOf",
        "colab": {
          "base_uri": "https://localhost:8080/",
          "height": 293
        },
        "outputId": "95f56716-88e6-4bb8-8f0b-361b424fcad1"
      },
      "outputs": [
        {
          "output_type": "execute_result",
          "data": {
            "text/plain": [
              "                                             title  \\\n",
              "0               Salad Days (Tang LiuZang) - Part 2   \n",
              "1                          The Master of Diabolism   \n",
              "2  JoJo's Bizarre Adventure Part 7: Steel Ball Run   \n",
              "3                              A Sign of Affection   \n",
              "4                             Moriarty the Patriot   \n",
              "\n",
              "                                         description  rating    year  \\\n",
              "0    The second season of Salad Days (Tang LiuZang).     4.7  2021.0   \n",
              "1  As the grandmaster who founded the Demonic Sec...     4.7  2017.0   \n",
              "2  Set in 1890, Steel Ball Run spotlights Gyro Ze...     4.7  2004.0   \n",
              "3  Yuki is a typical college student, whose world...     4.7  2019.0   \n",
              "4  Before he was Sherlock’s rival, Moriarty fough...     4.7  2016.0   \n",
              "\n",
              "                                                tags  \\\n",
              "0  ['BL', 'Manhua', 'Romance', 'Shounen-ai', 'Spo...   \n",
              "1  ['Action', 'Adventure', 'BL', 'Comedy', 'Manhu...   \n",
              "2  ['Action', 'Adventure', 'Horror', 'Mystery', '...   \n",
              "3  ['Romance', 'Shoujo', 'Slice of Life', 'Disabi...   \n",
              "4  ['Mystery', 'Shounen', 'Detectives', 'England'...   \n",
              "\n",
              "                                               cover  \n",
              "0  https://cdn.anime-planet.com/manga/primary/sal...  \n",
              "1  https://cdn.anime-planet.com/manga/primary/the...  \n",
              "2  https://cdn.anime-planet.com/manga/primary/joj...  \n",
              "3  https://cdn.anime-planet.com/manga/primary/a-s...  \n",
              "4  https://cdn.anime-planet.com/manga/primary/mor...  "
            ],
            "text/html": [
              "\n",
              "  <div id=\"df-c373bd73-3da4-4b77-a690-0f200015cd63\" class=\"colab-df-container\">\n",
              "    <div>\n",
              "<style scoped>\n",
              "    .dataframe tbody tr th:only-of-type {\n",
              "        vertical-align: middle;\n",
              "    }\n",
              "\n",
              "    .dataframe tbody tr th {\n",
              "        vertical-align: top;\n",
              "    }\n",
              "\n",
              "    .dataframe thead th {\n",
              "        text-align: right;\n",
              "    }\n",
              "</style>\n",
              "<table border=\"1\" class=\"dataframe\">\n",
              "  <thead>\n",
              "    <tr style=\"text-align: right;\">\n",
              "      <th></th>\n",
              "      <th>title</th>\n",
              "      <th>description</th>\n",
              "      <th>rating</th>\n",
              "      <th>year</th>\n",
              "      <th>tags</th>\n",
              "      <th>cover</th>\n",
              "    </tr>\n",
              "  </thead>\n",
              "  <tbody>\n",
              "    <tr>\n",
              "      <th>0</th>\n",
              "      <td>Salad Days (Tang LiuZang) - Part 2</td>\n",
              "      <td>The second season of Salad Days (Tang LiuZang).</td>\n",
              "      <td>4.7</td>\n",
              "      <td>2021.0</td>\n",
              "      <td>['BL', 'Manhua', 'Romance', 'Shounen-ai', 'Spo...</td>\n",
              "      <td>https://cdn.anime-planet.com/manga/primary/sal...</td>\n",
              "    </tr>\n",
              "    <tr>\n",
              "      <th>1</th>\n",
              "      <td>The Master of Diabolism</td>\n",
              "      <td>As the grandmaster who founded the Demonic Sec...</td>\n",
              "      <td>4.7</td>\n",
              "      <td>2017.0</td>\n",
              "      <td>['Action', 'Adventure', 'BL', 'Comedy', 'Manhu...</td>\n",
              "      <td>https://cdn.anime-planet.com/manga/primary/the...</td>\n",
              "    </tr>\n",
              "    <tr>\n",
              "      <th>2</th>\n",
              "      <td>JoJo's Bizarre Adventure Part 7: Steel Ball Run</td>\n",
              "      <td>Set in 1890, Steel Ball Run spotlights Gyro Ze...</td>\n",
              "      <td>4.7</td>\n",
              "      <td>2004.0</td>\n",
              "      <td>['Action', 'Adventure', 'Horror', 'Mystery', '...</td>\n",
              "      <td>https://cdn.anime-planet.com/manga/primary/joj...</td>\n",
              "    </tr>\n",
              "    <tr>\n",
              "      <th>3</th>\n",
              "      <td>A Sign of Affection</td>\n",
              "      <td>Yuki is a typical college student, whose world...</td>\n",
              "      <td>4.7</td>\n",
              "      <td>2019.0</td>\n",
              "      <td>['Romance', 'Shoujo', 'Slice of Life', 'Disabi...</td>\n",
              "      <td>https://cdn.anime-planet.com/manga/primary/a-s...</td>\n",
              "    </tr>\n",
              "    <tr>\n",
              "      <th>4</th>\n",
              "      <td>Moriarty the Patriot</td>\n",
              "      <td>Before he was Sherlock’s rival, Moriarty fough...</td>\n",
              "      <td>4.7</td>\n",
              "      <td>2016.0</td>\n",
              "      <td>['Mystery', 'Shounen', 'Detectives', 'England'...</td>\n",
              "      <td>https://cdn.anime-planet.com/manga/primary/mor...</td>\n",
              "    </tr>\n",
              "  </tbody>\n",
              "</table>\n",
              "</div>\n",
              "    <div class=\"colab-df-buttons\">\n",
              "\n",
              "  <div class=\"colab-df-container\">\n",
              "    <button class=\"colab-df-convert\" onclick=\"convertToInteractive('df-c373bd73-3da4-4b77-a690-0f200015cd63')\"\n",
              "            title=\"Convert this dataframe to an interactive table.\"\n",
              "            style=\"display:none;\">\n",
              "\n",
              "  <svg xmlns=\"http://www.w3.org/2000/svg\" height=\"24px\" viewBox=\"0 -960 960 960\">\n",
              "    <path d=\"M120-120v-720h720v720H120Zm60-500h600v-160H180v160Zm220 220h160v-160H400v160Zm0 220h160v-160H400v160ZM180-400h160v-160H180v160Zm440 0h160v-160H620v160ZM180-180h160v-160H180v160Zm440 0h160v-160H620v160Z\"/>\n",
              "  </svg>\n",
              "    </button>\n",
              "\n",
              "  <style>\n",
              "    .colab-df-container {\n",
              "      display:flex;\n",
              "      gap: 12px;\n",
              "    }\n",
              "\n",
              "    .colab-df-convert {\n",
              "      background-color: #E8F0FE;\n",
              "      border: none;\n",
              "      border-radius: 50%;\n",
              "      cursor: pointer;\n",
              "      display: none;\n",
              "      fill: #1967D2;\n",
              "      height: 32px;\n",
              "      padding: 0 0 0 0;\n",
              "      width: 32px;\n",
              "    }\n",
              "\n",
              "    .colab-df-convert:hover {\n",
              "      background-color: #E2EBFA;\n",
              "      box-shadow: 0px 1px 2px rgba(60, 64, 67, 0.3), 0px 1px 3px 1px rgba(60, 64, 67, 0.15);\n",
              "      fill: #174EA6;\n",
              "    }\n",
              "\n",
              "    .colab-df-buttons div {\n",
              "      margin-bottom: 4px;\n",
              "    }\n",
              "\n",
              "    [theme=dark] .colab-df-convert {\n",
              "      background-color: #3B4455;\n",
              "      fill: #D2E3FC;\n",
              "    }\n",
              "\n",
              "    [theme=dark] .colab-df-convert:hover {\n",
              "      background-color: #434B5C;\n",
              "      box-shadow: 0px 1px 3px 1px rgba(0, 0, 0, 0.15);\n",
              "      filter: drop-shadow(0px 1px 2px rgba(0, 0, 0, 0.3));\n",
              "      fill: #FFFFFF;\n",
              "    }\n",
              "  </style>\n",
              "\n",
              "    <script>\n",
              "      const buttonEl =\n",
              "        document.querySelector('#df-c373bd73-3da4-4b77-a690-0f200015cd63 button.colab-df-convert');\n",
              "      buttonEl.style.display =\n",
              "        google.colab.kernel.accessAllowed ? 'block' : 'none';\n",
              "\n",
              "      async function convertToInteractive(key) {\n",
              "        const element = document.querySelector('#df-c373bd73-3da4-4b77-a690-0f200015cd63');\n",
              "        const dataTable =\n",
              "          await google.colab.kernel.invokeFunction('convertToInteractive',\n",
              "                                                    [key], {});\n",
              "        if (!dataTable) return;\n",
              "\n",
              "        const docLinkHtml = 'Like what you see? Visit the ' +\n",
              "          '<a target=\"_blank\" href=https://colab.research.google.com/notebooks/data_table.ipynb>data table notebook</a>'\n",
              "          + ' to learn more about interactive tables.';\n",
              "        element.innerHTML = '';\n",
              "        dataTable['output_type'] = 'display_data';\n",
              "        await google.colab.output.renderOutput(dataTable, element);\n",
              "        const docLink = document.createElement('div');\n",
              "        docLink.innerHTML = docLinkHtml;\n",
              "        element.appendChild(docLink);\n",
              "      }\n",
              "    </script>\n",
              "  </div>\n",
              "\n",
              "\n",
              "<div id=\"df-bf790abc-b655-4851-9cd0-4cf5fa4be802\">\n",
              "  <button class=\"colab-df-quickchart\" onclick=\"quickchart('df-bf790abc-b655-4851-9cd0-4cf5fa4be802')\"\n",
              "            title=\"Suggest charts\"\n",
              "            style=\"display:none;\">\n",
              "\n",
              "<svg xmlns=\"http://www.w3.org/2000/svg\" height=\"24px\"viewBox=\"0 0 24 24\"\n",
              "     width=\"24px\">\n",
              "    <g>\n",
              "        <path d=\"M19 3H5c-1.1 0-2 .9-2 2v14c0 1.1.9 2 2 2h14c1.1 0 2-.9 2-2V5c0-1.1-.9-2-2-2zM9 17H7v-7h2v7zm4 0h-2V7h2v10zm4 0h-2v-4h2v4z\"/>\n",
              "    </g>\n",
              "</svg>\n",
              "  </button>\n",
              "\n",
              "<style>\n",
              "  .colab-df-quickchart {\n",
              "      --bg-color: #E8F0FE;\n",
              "      --fill-color: #1967D2;\n",
              "      --hover-bg-color: #E2EBFA;\n",
              "      --hover-fill-color: #174EA6;\n",
              "      --disabled-fill-color: #AAA;\n",
              "      --disabled-bg-color: #DDD;\n",
              "  }\n",
              "\n",
              "  [theme=dark] .colab-df-quickchart {\n",
              "      --bg-color: #3B4455;\n",
              "      --fill-color: #D2E3FC;\n",
              "      --hover-bg-color: #434B5C;\n",
              "      --hover-fill-color: #FFFFFF;\n",
              "      --disabled-bg-color: #3B4455;\n",
              "      --disabled-fill-color: #666;\n",
              "  }\n",
              "\n",
              "  .colab-df-quickchart {\n",
              "    background-color: var(--bg-color);\n",
              "    border: none;\n",
              "    border-radius: 50%;\n",
              "    cursor: pointer;\n",
              "    display: none;\n",
              "    fill: var(--fill-color);\n",
              "    height: 32px;\n",
              "    padding: 0;\n",
              "    width: 32px;\n",
              "  }\n",
              "\n",
              "  .colab-df-quickchart:hover {\n",
              "    background-color: var(--hover-bg-color);\n",
              "    box-shadow: 0 1px 2px rgba(60, 64, 67, 0.3), 0 1px 3px 1px rgba(60, 64, 67, 0.15);\n",
              "    fill: var(--button-hover-fill-color);\n",
              "  }\n",
              "\n",
              "  .colab-df-quickchart-complete:disabled,\n",
              "  .colab-df-quickchart-complete:disabled:hover {\n",
              "    background-color: var(--disabled-bg-color);\n",
              "    fill: var(--disabled-fill-color);\n",
              "    box-shadow: none;\n",
              "  }\n",
              "\n",
              "  .colab-df-spinner {\n",
              "    border: 2px solid var(--fill-color);\n",
              "    border-color: transparent;\n",
              "    border-bottom-color: var(--fill-color);\n",
              "    animation:\n",
              "      spin 1s steps(1) infinite;\n",
              "  }\n",
              "\n",
              "  @keyframes spin {\n",
              "    0% {\n",
              "      border-color: transparent;\n",
              "      border-bottom-color: var(--fill-color);\n",
              "      border-left-color: var(--fill-color);\n",
              "    }\n",
              "    20% {\n",
              "      border-color: transparent;\n",
              "      border-left-color: var(--fill-color);\n",
              "      border-top-color: var(--fill-color);\n",
              "    }\n",
              "    30% {\n",
              "      border-color: transparent;\n",
              "      border-left-color: var(--fill-color);\n",
              "      border-top-color: var(--fill-color);\n",
              "      border-right-color: var(--fill-color);\n",
              "    }\n",
              "    40% {\n",
              "      border-color: transparent;\n",
              "      border-right-color: var(--fill-color);\n",
              "      border-top-color: var(--fill-color);\n",
              "    }\n",
              "    60% {\n",
              "      border-color: transparent;\n",
              "      border-right-color: var(--fill-color);\n",
              "    }\n",
              "    80% {\n",
              "      border-color: transparent;\n",
              "      border-right-color: var(--fill-color);\n",
              "      border-bottom-color: var(--fill-color);\n",
              "    }\n",
              "    90% {\n",
              "      border-color: transparent;\n",
              "      border-bottom-color: var(--fill-color);\n",
              "    }\n",
              "  }\n",
              "</style>\n",
              "\n",
              "  <script>\n",
              "    async function quickchart(key) {\n",
              "      const quickchartButtonEl =\n",
              "        document.querySelector('#' + key + ' button');\n",
              "      quickchartButtonEl.disabled = true;  // To prevent multiple clicks.\n",
              "      quickchartButtonEl.classList.add('colab-df-spinner');\n",
              "      try {\n",
              "        const charts = await google.colab.kernel.invokeFunction(\n",
              "            'suggestCharts', [key], {});\n",
              "      } catch (error) {\n",
              "        console.error('Error during call to suggestCharts:', error);\n",
              "      }\n",
              "      quickchartButtonEl.classList.remove('colab-df-spinner');\n",
              "      quickchartButtonEl.classList.add('colab-df-quickchart-complete');\n",
              "    }\n",
              "    (() => {\n",
              "      let quickchartButtonEl =\n",
              "        document.querySelector('#df-bf790abc-b655-4851-9cd0-4cf5fa4be802 button');\n",
              "      quickchartButtonEl.style.display =\n",
              "        google.colab.kernel.accessAllowed ? 'block' : 'none';\n",
              "    })();\n",
              "  </script>\n",
              "</div>\n",
              "\n",
              "    </div>\n",
              "  </div>\n"
            ],
            "application/vnd.google.colaboratory.intrinsic+json": {
              "type": "dataframe",
              "variable_name": "comic",
              "summary": "{\n  \"name\": \"comic\",\n  \"rows\": 70948,\n  \"fields\": [\n    {\n      \"column\": \"title\",\n      \"properties\": {\n        \"dtype\": \"string\",\n        \"num_unique_values\": 70939,\n        \"samples\": [\n          \"Chokujou no Arashi\",\n          \"Kirisame ga Furu Mori\",\n          \"Shio no Machi: Jietai Sanbusaku Series\"\n        ],\n        \"semantic_type\": \"\",\n        \"description\": \"\"\n      }\n    },\n    {\n      \"column\": \"description\",\n      \"properties\": {\n        \"dtype\": \"string\",\n        \"num_unique_values\": 46482,\n        \"samples\": [\n          \"Star-chaser Ji Congcong slipped and fell down the stairs after a concert, except she fell into the past and became a low ranked beauty in the imperial harem. This harem is built on shaky foundations, fueled by jealousy and filled with lustful seductions. The princes and lords seeking to take each other down, but the general and the marquis look just like her idols! Some seek love, some seek power, some are seeking revenge... Watch how a modern beau navigates a world of savages, and which one will she take out of the palace for her own.\",\n          \"Our main character has never once had a boyfriend, so, of course, she's a virgin. One day, she happens to come across a \\\"Hottie Take-Out.\\\" Once inside... she sees it's filled with real hot guys! And the first take-out is free! She chooses a sadistic, hot guy immediately... who heads straight to a hotel! All of a sudden, he pushes her down on the bed and fondles her boobs... \\\"No, not there!\\\" She tries to escape, but there's a certain rule to the hot guy shop...\",\n          \"After a whirlwind romance with Leo, the prince of Feliz, Bethany ends up marrying him. She dreams of rubbing shoulders with the upper class in a fancy castle, but the nobles turn their noses up at her commoner background and her new husband is too busy to notice her plight. In fact, he's very insistent that she fulfill her duties as princess. In despair, she flees to Canada, her real home. Three years later she asks for a divorce, despite still loving Leo, and he coolly accepts. The only problem is that she must return to that nightmare country of Feliz in order to do it!\"\n        ],\n        \"semantic_type\": \"\",\n        \"description\": \"\"\n      }\n    },\n    {\n      \"column\": \"rating\",\n      \"properties\": {\n        \"dtype\": \"number\",\n        \"std\": 0.40038741622664165,\n        \"min\": 2.0,\n        \"max\": 4.7,\n        \"num_unique_values\": 24,\n        \"samples\": [\n          3.9,\n          3.1,\n          4.7\n        ],\n        \"semantic_type\": \"\",\n        \"description\": \"\"\n      }\n    },\n    {\n      \"column\": \"year\",\n      \"properties\": {\n        \"dtype\": \"number\",\n        \"std\": 9.026567159312634,\n        \"min\": 1926.0,\n        \"max\": 2022.0,\n        \"num_unique_values\": 83,\n        \"samples\": [\n          1989.0,\n          2021.0,\n          2009.0\n        ],\n        \"semantic_type\": \"\",\n        \"description\": \"\"\n      }\n    },\n    {\n      \"column\": \"tags\",\n      \"properties\": {\n        \"dtype\": \"string\",\n        \"num_unique_values\": 43186,\n        \"samples\": [\n          \"['Sci Fi', 'Seinen', 'Androids', 'Psychological', 'Robots']\",\n          \"['Mystery', 'Sci Fi', 'Shounen', 'Human Experimentation']\",\n          \"['Comedy', 'Ecchi', 'Slice of Life']\"\n        ],\n        \"semantic_type\": \"\",\n        \"description\": \"\"\n      }\n    },\n    {\n      \"column\": \"cover\",\n      \"properties\": {\n        \"dtype\": \"string\",\n        \"num_unique_values\": 70782,\n        \"samples\": [\n          \"https://cdn.anime-planet.com/manga/primary/takaga-tasogare-1-285x405.jpg?t=1631926473\",\n          \"https://cdn.anime-planet.com/manga/primary/wante-d-1-190x298.jpg?t=1625908761\",\n          \"https://cdn.anime-planet.com/manga/primary/kore-wa-keihi-de-ochimasen-keiribu-no-morikawa-san-1-190x298.jpg?t=1625924811\"\n        ],\n        \"semantic_type\": \"\",\n        \"description\": \"\"\n      }\n    }\n  ]\n}"
            }
          },
          "metadata": {},
          "execution_count": 3
        }
      ],
      "source": [
        "comic.head()"
      ]
    },
    {
      "cell_type": "code",
      "execution_count": 4,
      "metadata": {
        "id": "mGWtfw22d-ic",
        "colab": {
          "base_uri": "https://localhost:8080/"
        },
        "outputId": "7f0ad55a-c990-4ea9-b30a-41514fcb457b"
      },
      "outputs": [
        {
          "output_type": "stream",
          "name": "stdout",
          "text": [
            "<class 'pandas.core.frame.DataFrame'>\n",
            "RangeIndex: 70948 entries, 0 to 70947\n",
            "Data columns (total 6 columns):\n",
            " #   Column       Non-Null Count  Dtype  \n",
            "---  ------       --------------  -----  \n",
            " 0   title        70948 non-null  object \n",
            " 1   description  70917 non-null  object \n",
            " 2   rating       29871 non-null  float64\n",
            " 3   year         70124 non-null  float64\n",
            " 4   tags         70948 non-null  object \n",
            " 5   cover        70948 non-null  object \n",
            "dtypes: float64(2), object(4)\n",
            "memory usage: 3.2+ MB\n"
          ]
        }
      ],
      "source": [
        "comic.info()"
      ]
    },
    {
      "cell_type": "markdown",
      "source": [
        "Filtering | Preprocessing"
      ],
      "metadata": {
        "id": "olsVdRp2PEbv"
      }
    },
    {
      "cell_type": "code",
      "execution_count": 5,
      "metadata": {
        "id": "Y6culwPQeJSk"
      },
      "outputs": [],
      "source": [
        "# title - name of comic\n",
        "# description - data\n",
        "# year - data\n",
        "# tags - data\n",
        "# cover - links to refer\n",
        "comic = comic[['title', 'description', 'year', 'tags', 'cover']]"
      ]
    },
    {
      "cell_type": "code",
      "execution_count": 6,
      "metadata": {
        "colab": {
          "base_uri": "https://localhost:8080/"
        },
        "id": "S-ekdzfQfYAF",
        "outputId": "38cbdb01-b8d6-467e-9e75-41bd531a6556"
      },
      "outputs": [
        {
          "output_type": "execute_result",
          "data": {
            "text/plain": [
              "title            0\n",
              "description     31\n",
              "year           824\n",
              "tags             0\n",
              "cover            0\n",
              "dtype: int64"
            ]
          },
          "metadata": {},
          "execution_count": 6
        }
      ],
      "source": [
        "comic.isnull().sum()"
      ]
    },
    {
      "cell_type": "code",
      "execution_count": 7,
      "metadata": {
        "id": "UUoP4Rlzf6bm"
      },
      "outputs": [],
      "source": [
        "comic.dropna(inplace=True)"
      ]
    },
    {
      "cell_type": "code",
      "execution_count": 8,
      "metadata": {
        "colab": {
          "base_uri": "https://localhost:8080/"
        },
        "id": "O4N4d4ZxgYwP",
        "outputId": "39cbb8fc-36eb-49cd-ff2d-ff9625cfe3c4"
      },
      "outputs": [
        {
          "output_type": "execute_result",
          "data": {
            "text/plain": [
              "0"
            ]
          },
          "metadata": {},
          "execution_count": 8
        }
      ],
      "source": [
        "comic.duplicated().sum()"
      ]
    },
    {
      "cell_type": "markdown",
      "source": [
        "list can be a string so convert it to list using ast.literal_eval\n",
        "'[ ]' -> [ ]"
      ],
      "metadata": {
        "id": "_V9t0kLGPKOe"
      }
    },
    {
      "cell_type": "code",
      "execution_count": 9,
      "metadata": {
        "colab": {
          "base_uri": "https://localhost:8080/"
        },
        "id": "psTrWruXAPSp",
        "outputId": "7abef8b7-74cd-43a8-de1b-3c727eccf1a5"
      },
      "outputs": [
        {
          "output_type": "execute_result",
          "data": {
            "text/plain": [
              "str"
            ]
          },
          "metadata": {},
          "execution_count": 9
        }
      ],
      "source": [
        "type(comic['tags'][0])"
      ]
    },
    {
      "cell_type": "code",
      "execution_count": 10,
      "metadata": {
        "id": "7PjBpLP3-Qdu"
      },
      "outputs": [],
      "source": [
        "import ast"
      ]
    },
    {
      "cell_type": "code",
      "execution_count": 11,
      "metadata": {
        "id": "2ZrHDjGBEQlb"
      },
      "outputs": [],
      "source": [
        "comic['tags'] = comic['tags'].apply(lambda x: ast.literal_eval(x))"
      ]
    },
    {
      "cell_type": "code",
      "execution_count": 12,
      "metadata": {
        "colab": {
          "base_uri": "https://localhost:8080/"
        },
        "id": "vhu7YJEbiKAM",
        "outputId": "e643117a-3578-4239-800f-a3d65635e22b"
      },
      "outputs": [
        {
          "output_type": "execute_result",
          "data": {
            "text/plain": [
              "['Mystery',\n",
              " 'Shounen',\n",
              " 'Detectives',\n",
              " 'England',\n",
              " 'Europe',\n",
              " 'Historical',\n",
              " 'SherlockHolmes',\n",
              " 'AdaptedtoAnime',\n",
              " 'BasedonaNovel']"
            ]
          },
          "metadata": {},
          "execution_count": 12
        }
      ],
      "source": [
        "comic['tags'] = comic['tags'].apply(lambda x: [i.replace(\" \", \"\") for i in x])\n",
        "comic['tags'][4]"
      ]
    },
    {
      "cell_type": "code",
      "execution_count": 13,
      "metadata": {
        "colab": {
          "base_uri": "https://localhost:8080/",
          "height": 36
        },
        "id": "Pdc07Il02ZoL",
        "outputId": "51e3b8da-0d07-4e23-8983-f9c896575eea"
      },
      "outputs": [
        {
          "output_type": "execute_result",
          "data": {
            "text/plain": [
              "'2021.0 The second season of\\xa0Salad Days (Tang LiuZang). BL Manhua Romance Shounen-ai Sports Webtoons FullColor'"
            ],
            "application/vnd.google.colaboratory.intrinsic+json": {
              "type": "string"
            }
          },
          "metadata": {},
          "execution_count": 13
        }
      ],
      "source": [
        "comic['overview'] = comic['year'].astype(str) + \" \" + comic['description'] + \" \" + comic['tags'].apply(' '.join)\n",
        "comic['overview'][0]"
      ]
    },
    {
      "cell_type": "markdown",
      "source": [
        "Server crashed duu to insufficient ram so reduce data"
      ],
      "metadata": {
        "id": "AGpZ9jYgPyy-"
      }
    },
    {
      "cell_type": "code",
      "execution_count": 14,
      "metadata": {
        "id": "H2u8HMfv3BO1"
      },
      "outputs": [],
      "source": [
        "new_df = comic[['title', 'cover', 'overview']]\n",
        "new_df = new_df.head(20000)"
      ]
    },
    {
      "cell_type": "code",
      "execution_count": 15,
      "metadata": {
        "colab": {
          "base_uri": "https://localhost:8080/",
          "height": 206
        },
        "id": "TGaTCaQvFNgR",
        "outputId": "25466a6e-fc03-413c-bc7a-225241f1e7e6"
      },
      "outputs": [
        {
          "output_type": "execute_result",
          "data": {
            "text/plain": [
              "                                             title  \\\n",
              "0               Salad Days (Tang LiuZang) - Part 2   \n",
              "1                          The Master of Diabolism   \n",
              "2  JoJo's Bizarre Adventure Part 7: Steel Ball Run   \n",
              "3                              A Sign of Affection   \n",
              "4                             Moriarty the Patriot   \n",
              "\n",
              "                                               cover  \\\n",
              "0  https://cdn.anime-planet.com/manga/primary/sal...   \n",
              "1  https://cdn.anime-planet.com/manga/primary/the...   \n",
              "2  https://cdn.anime-planet.com/manga/primary/joj...   \n",
              "3  https://cdn.anime-planet.com/manga/primary/a-s...   \n",
              "4  https://cdn.anime-planet.com/manga/primary/mor...   \n",
              "\n",
              "                                            overview  \n",
              "0  2021.0 The second season of Salad Days (Tang L...  \n",
              "1  2017.0 As the grandmaster who founded the Demo...  \n",
              "2  2004.0 Set in 1890, Steel Ball Run spotlights ...  \n",
              "3  2019.0 Yuki is a typical college student, whos...  \n",
              "4  2016.0 Before he was Sherlock’s rival, Moriart...  "
            ],
            "text/html": [
              "\n",
              "  <div id=\"df-616d776f-e655-4be3-8a8f-3dea91befa64\" class=\"colab-df-container\">\n",
              "    <div>\n",
              "<style scoped>\n",
              "    .dataframe tbody tr th:only-of-type {\n",
              "        vertical-align: middle;\n",
              "    }\n",
              "\n",
              "    .dataframe tbody tr th {\n",
              "        vertical-align: top;\n",
              "    }\n",
              "\n",
              "    .dataframe thead th {\n",
              "        text-align: right;\n",
              "    }\n",
              "</style>\n",
              "<table border=\"1\" class=\"dataframe\">\n",
              "  <thead>\n",
              "    <tr style=\"text-align: right;\">\n",
              "      <th></th>\n",
              "      <th>title</th>\n",
              "      <th>cover</th>\n",
              "      <th>overview</th>\n",
              "    </tr>\n",
              "  </thead>\n",
              "  <tbody>\n",
              "    <tr>\n",
              "      <th>0</th>\n",
              "      <td>Salad Days (Tang LiuZang) - Part 2</td>\n",
              "      <td>https://cdn.anime-planet.com/manga/primary/sal...</td>\n",
              "      <td>2021.0 The second season of Salad Days (Tang L...</td>\n",
              "    </tr>\n",
              "    <tr>\n",
              "      <th>1</th>\n",
              "      <td>The Master of Diabolism</td>\n",
              "      <td>https://cdn.anime-planet.com/manga/primary/the...</td>\n",
              "      <td>2017.0 As the grandmaster who founded the Demo...</td>\n",
              "    </tr>\n",
              "    <tr>\n",
              "      <th>2</th>\n",
              "      <td>JoJo's Bizarre Adventure Part 7: Steel Ball Run</td>\n",
              "      <td>https://cdn.anime-planet.com/manga/primary/joj...</td>\n",
              "      <td>2004.0 Set in 1890, Steel Ball Run spotlights ...</td>\n",
              "    </tr>\n",
              "    <tr>\n",
              "      <th>3</th>\n",
              "      <td>A Sign of Affection</td>\n",
              "      <td>https://cdn.anime-planet.com/manga/primary/a-s...</td>\n",
              "      <td>2019.0 Yuki is a typical college student, whos...</td>\n",
              "    </tr>\n",
              "    <tr>\n",
              "      <th>4</th>\n",
              "      <td>Moriarty the Patriot</td>\n",
              "      <td>https://cdn.anime-planet.com/manga/primary/mor...</td>\n",
              "      <td>2016.0 Before he was Sherlock’s rival, Moriart...</td>\n",
              "    </tr>\n",
              "  </tbody>\n",
              "</table>\n",
              "</div>\n",
              "    <div class=\"colab-df-buttons\">\n",
              "\n",
              "  <div class=\"colab-df-container\">\n",
              "    <button class=\"colab-df-convert\" onclick=\"convertToInteractive('df-616d776f-e655-4be3-8a8f-3dea91befa64')\"\n",
              "            title=\"Convert this dataframe to an interactive table.\"\n",
              "            style=\"display:none;\">\n",
              "\n",
              "  <svg xmlns=\"http://www.w3.org/2000/svg\" height=\"24px\" viewBox=\"0 -960 960 960\">\n",
              "    <path d=\"M120-120v-720h720v720H120Zm60-500h600v-160H180v160Zm220 220h160v-160H400v160Zm0 220h160v-160H400v160ZM180-400h160v-160H180v160Zm440 0h160v-160H620v160ZM180-180h160v-160H180v160Zm440 0h160v-160H620v160Z\"/>\n",
              "  </svg>\n",
              "    </button>\n",
              "\n",
              "  <style>\n",
              "    .colab-df-container {\n",
              "      display:flex;\n",
              "      gap: 12px;\n",
              "    }\n",
              "\n",
              "    .colab-df-convert {\n",
              "      background-color: #E8F0FE;\n",
              "      border: none;\n",
              "      border-radius: 50%;\n",
              "      cursor: pointer;\n",
              "      display: none;\n",
              "      fill: #1967D2;\n",
              "      height: 32px;\n",
              "      padding: 0 0 0 0;\n",
              "      width: 32px;\n",
              "    }\n",
              "\n",
              "    .colab-df-convert:hover {\n",
              "      background-color: #E2EBFA;\n",
              "      box-shadow: 0px 1px 2px rgba(60, 64, 67, 0.3), 0px 1px 3px 1px rgba(60, 64, 67, 0.15);\n",
              "      fill: #174EA6;\n",
              "    }\n",
              "\n",
              "    .colab-df-buttons div {\n",
              "      margin-bottom: 4px;\n",
              "    }\n",
              "\n",
              "    [theme=dark] .colab-df-convert {\n",
              "      background-color: #3B4455;\n",
              "      fill: #D2E3FC;\n",
              "    }\n",
              "\n",
              "    [theme=dark] .colab-df-convert:hover {\n",
              "      background-color: #434B5C;\n",
              "      box-shadow: 0px 1px 3px 1px rgba(0, 0, 0, 0.15);\n",
              "      filter: drop-shadow(0px 1px 2px rgba(0, 0, 0, 0.3));\n",
              "      fill: #FFFFFF;\n",
              "    }\n",
              "  </style>\n",
              "\n",
              "    <script>\n",
              "      const buttonEl =\n",
              "        document.querySelector('#df-616d776f-e655-4be3-8a8f-3dea91befa64 button.colab-df-convert');\n",
              "      buttonEl.style.display =\n",
              "        google.colab.kernel.accessAllowed ? 'block' : 'none';\n",
              "\n",
              "      async function convertToInteractive(key) {\n",
              "        const element = document.querySelector('#df-616d776f-e655-4be3-8a8f-3dea91befa64');\n",
              "        const dataTable =\n",
              "          await google.colab.kernel.invokeFunction('convertToInteractive',\n",
              "                                                    [key], {});\n",
              "        if (!dataTable) return;\n",
              "\n",
              "        const docLinkHtml = 'Like what you see? Visit the ' +\n",
              "          '<a target=\"_blank\" href=https://colab.research.google.com/notebooks/data_table.ipynb>data table notebook</a>'\n",
              "          + ' to learn more about interactive tables.';\n",
              "        element.innerHTML = '';\n",
              "        dataTable['output_type'] = 'display_data';\n",
              "        await google.colab.output.renderOutput(dataTable, element);\n",
              "        const docLink = document.createElement('div');\n",
              "        docLink.innerHTML = docLinkHtml;\n",
              "        element.appendChild(docLink);\n",
              "      }\n",
              "    </script>\n",
              "  </div>\n",
              "\n",
              "\n",
              "<div id=\"df-3b2624e5-9339-4806-ba1d-82818aeb5fe7\">\n",
              "  <button class=\"colab-df-quickchart\" onclick=\"quickchart('df-3b2624e5-9339-4806-ba1d-82818aeb5fe7')\"\n",
              "            title=\"Suggest charts\"\n",
              "            style=\"display:none;\">\n",
              "\n",
              "<svg xmlns=\"http://www.w3.org/2000/svg\" height=\"24px\"viewBox=\"0 0 24 24\"\n",
              "     width=\"24px\">\n",
              "    <g>\n",
              "        <path d=\"M19 3H5c-1.1 0-2 .9-2 2v14c0 1.1.9 2 2 2h14c1.1 0 2-.9 2-2V5c0-1.1-.9-2-2-2zM9 17H7v-7h2v7zm4 0h-2V7h2v10zm4 0h-2v-4h2v4z\"/>\n",
              "    </g>\n",
              "</svg>\n",
              "  </button>\n",
              "\n",
              "<style>\n",
              "  .colab-df-quickchart {\n",
              "      --bg-color: #E8F0FE;\n",
              "      --fill-color: #1967D2;\n",
              "      --hover-bg-color: #E2EBFA;\n",
              "      --hover-fill-color: #174EA6;\n",
              "      --disabled-fill-color: #AAA;\n",
              "      --disabled-bg-color: #DDD;\n",
              "  }\n",
              "\n",
              "  [theme=dark] .colab-df-quickchart {\n",
              "      --bg-color: #3B4455;\n",
              "      --fill-color: #D2E3FC;\n",
              "      --hover-bg-color: #434B5C;\n",
              "      --hover-fill-color: #FFFFFF;\n",
              "      --disabled-bg-color: #3B4455;\n",
              "      --disabled-fill-color: #666;\n",
              "  }\n",
              "\n",
              "  .colab-df-quickchart {\n",
              "    background-color: var(--bg-color);\n",
              "    border: none;\n",
              "    border-radius: 50%;\n",
              "    cursor: pointer;\n",
              "    display: none;\n",
              "    fill: var(--fill-color);\n",
              "    height: 32px;\n",
              "    padding: 0;\n",
              "    width: 32px;\n",
              "  }\n",
              "\n",
              "  .colab-df-quickchart:hover {\n",
              "    background-color: var(--hover-bg-color);\n",
              "    box-shadow: 0 1px 2px rgba(60, 64, 67, 0.3), 0 1px 3px 1px rgba(60, 64, 67, 0.15);\n",
              "    fill: var(--button-hover-fill-color);\n",
              "  }\n",
              "\n",
              "  .colab-df-quickchart-complete:disabled,\n",
              "  .colab-df-quickchart-complete:disabled:hover {\n",
              "    background-color: var(--disabled-bg-color);\n",
              "    fill: var(--disabled-fill-color);\n",
              "    box-shadow: none;\n",
              "  }\n",
              "\n",
              "  .colab-df-spinner {\n",
              "    border: 2px solid var(--fill-color);\n",
              "    border-color: transparent;\n",
              "    border-bottom-color: var(--fill-color);\n",
              "    animation:\n",
              "      spin 1s steps(1) infinite;\n",
              "  }\n",
              "\n",
              "  @keyframes spin {\n",
              "    0% {\n",
              "      border-color: transparent;\n",
              "      border-bottom-color: var(--fill-color);\n",
              "      border-left-color: var(--fill-color);\n",
              "    }\n",
              "    20% {\n",
              "      border-color: transparent;\n",
              "      border-left-color: var(--fill-color);\n",
              "      border-top-color: var(--fill-color);\n",
              "    }\n",
              "    30% {\n",
              "      border-color: transparent;\n",
              "      border-left-color: var(--fill-color);\n",
              "      border-top-color: var(--fill-color);\n",
              "      border-right-color: var(--fill-color);\n",
              "    }\n",
              "    40% {\n",
              "      border-color: transparent;\n",
              "      border-right-color: var(--fill-color);\n",
              "      border-top-color: var(--fill-color);\n",
              "    }\n",
              "    60% {\n",
              "      border-color: transparent;\n",
              "      border-right-color: var(--fill-color);\n",
              "    }\n",
              "    80% {\n",
              "      border-color: transparent;\n",
              "      border-right-color: var(--fill-color);\n",
              "      border-bottom-color: var(--fill-color);\n",
              "    }\n",
              "    90% {\n",
              "      border-color: transparent;\n",
              "      border-bottom-color: var(--fill-color);\n",
              "    }\n",
              "  }\n",
              "</style>\n",
              "\n",
              "  <script>\n",
              "    async function quickchart(key) {\n",
              "      const quickchartButtonEl =\n",
              "        document.querySelector('#' + key + ' button');\n",
              "      quickchartButtonEl.disabled = true;  // To prevent multiple clicks.\n",
              "      quickchartButtonEl.classList.add('colab-df-spinner');\n",
              "      try {\n",
              "        const charts = await google.colab.kernel.invokeFunction(\n",
              "            'suggestCharts', [key], {});\n",
              "      } catch (error) {\n",
              "        console.error('Error during call to suggestCharts:', error);\n",
              "      }\n",
              "      quickchartButtonEl.classList.remove('colab-df-spinner');\n",
              "      quickchartButtonEl.classList.add('colab-df-quickchart-complete');\n",
              "    }\n",
              "    (() => {\n",
              "      let quickchartButtonEl =\n",
              "        document.querySelector('#df-3b2624e5-9339-4806-ba1d-82818aeb5fe7 button');\n",
              "      quickchartButtonEl.style.display =\n",
              "        google.colab.kernel.accessAllowed ? 'block' : 'none';\n",
              "    })();\n",
              "  </script>\n",
              "</div>\n",
              "\n",
              "    </div>\n",
              "  </div>\n"
            ],
            "application/vnd.google.colaboratory.intrinsic+json": {
              "type": "dataframe",
              "variable_name": "new_df",
              "summary": "{\n  \"name\": \"new_df\",\n  \"rows\": 20000,\n  \"fields\": [\n    {\n      \"column\": \"title\",\n      \"properties\": {\n        \"dtype\": \"string\",\n        \"num_unique_values\": 19999,\n        \"samples\": [\n          \"Sealed With Lips\",\n          \"Tonari ni\",\n          \"Maoyuu Maou Yuusha Gaiden: Madoromi no Onna Mahou Tsukai\"\n        ],\n        \"semantic_type\": \"\",\n        \"description\": \"\"\n      }\n    },\n    {\n      \"column\": \"cover\",\n      \"properties\": {\n        \"dtype\": \"string\",\n        \"num_unique_values\": 19985,\n        \"samples\": [\n          \"https://cdn.anime-planet.com/manga/primary/a-perverts-daily-life-1-190x267.jpg?t=1625921080\",\n          \"https://cdn.anime-planet.com/manga/primary/am-i-actually-the-strongest-light-novel-1-190x268.jpg?t=1625924764\",\n          \"https://cdn.anime-planet.com/manga/primary/the-cold-kings-beloved-forensic-wife-1-190x265.jpg?t=1625931859\"\n        ],\n        \"semantic_type\": \"\",\n        \"description\": \"\"\n      }\n    },\n    {\n      \"column\": \"overview\",\n      \"properties\": {\n        \"dtype\": \"string\",\n        \"num_unique_values\": 19895,\n        \"samples\": [\n          \"2013.0 A friendly, deadpan orc meets a horny, adorable elf. Comedy Ecchi Fantasy Doujinshi Elves\",\n          \"1996.0 Yuu Sasaya is a na\\u00efve, unfashionable girl from a small town and is living in Tokyo for college. She becomes fascinated by the theater after watching a play for the first time and declares that she will become an actor. Yuu manages to join a small theater troupe, but due to her lack of skills and experience she is only allowed to handle odd jobs. Her first chance to perform comes when she is given a small guest part in a play with another troupe. However, when Yuu makes a critical mistake, she is forced to face the harsh reality that even with determination she cannot become an actor without talent. She considers abandoning her theatrical dreams, but with some encouragement, she decides to change her goals and become a writer and director. Yuu must now find her own unique voice and showcase it for everyone to see while overcoming the many difficulties that lay ahead. Comedy Drama Josei SliceofLife Acting Writers\",\n          \"1997.0 Aya Fujii was a star ballet dancer until she made a mistake at a national performance; from then on, she has been stricken with terrible stage fright and believes she could never dance again. However, things change when she sees a performance by COOL, an all-male ballet troupe. Aya is in awe of the group, but is particularly drawn to its leader Akira Hibiya. When she begs to join COOL, Akira tells her that she can join after she wins at the national competition - a seemingly-impossible task for the frightened Aya. Yet the more she falls for Akira and his dancing, the more determined she becomes to gain a spot in COOL. Drama Romance Shoujo BalletDancing Dancing\"\n        ],\n        \"semantic_type\": \"\",\n        \"description\": \"\"\n      }\n    }\n  ]\n}"
            }
          },
          "metadata": {},
          "execution_count": 15
        }
      ],
      "source": [
        "new_df.head()"
      ]
    },
    {
      "cell_type": "markdown",
      "source": [
        "Vectorize the data"
      ],
      "metadata": {
        "id": "9oTBbtI4Qaxn"
      }
    },
    {
      "cell_type": "code",
      "execution_count": 16,
      "metadata": {
        "id": "EdjfUR_AFbRp"
      },
      "outputs": [],
      "source": [
        "from sklearn.feature_extraction.text import CountVectorizer\n",
        "vectorizer = CountVectorizer(max_features=5000, stop_words='english')\n"
      ]
    },
    {
      "cell_type": "code",
      "execution_count": 17,
      "metadata": {
        "colab": {
          "base_uri": "https://localhost:8080/"
        },
        "id": "nznX71gWF4Uh",
        "outputId": "cccc4885-b3db-4e29-eb56-4b41d34d8214"
      },
      "outputs": [
        {
          "output_type": "execute_result",
          "data": {
            "text/plain": [
              "(20000, 5000)"
            ]
          },
          "metadata": {},
          "execution_count": 17
        }
      ],
      "source": [
        "vectors = vectorizer.fit_transform(new_df['overview']).toarray()\n",
        "vectors.shape"
      ]
    },
    {
      "cell_type": "code",
      "execution_count": 26,
      "metadata": {
        "id": "NQrbhYIzGM9S",
        "colab": {
          "base_uri": "https://localhost:8080/"
        },
        "outputId": "76d36346-ce77-4915-e278-9cdddb67fd4a"
      },
      "outputs": [
        {
          "output_type": "stream",
          "name": "stdout",
          "text": [
            "000 10 100 11 12 13 14 15 16 16th 16thcentury 17 18 19 1985 1986 1987 1988 1989 1990 1991 1992 1993 1994 1995 1996 1997 1998 1999 19th 19thcentury 1pcomic 20 200 2000 2001 2002 2003 2004 2005 2006 2007 2008 2009 2010 2011 2012 2013 2014 2015 2016 2017 2018 2019 2020 2021 2022 21 21st 22 23 24 25 26 27 28 29 2nd 30 300 3rd 4th 500 99 abandon abandoned abducted abilities ability able abnormal aboard abroad abruptly absence absolute absolutely absurd abuse abused abusive abyss academy accept accepted accepting accepts accident accidental accidentally accompanied accompany accomplish accomplished according account accused ace achieve achieving acquaintance acquainted acquire acquired act acting action actions activities actor actress acts actual actually ad adapt adaptedtoanime add addition adjust admiration admired admires admit adopt adopted adoptive adorable adult adultcouples adulthood adultindustry adults advance advanced advances advantage adventure adventurer adventurers adventures advice afar affair affairs affection affections afford afraid afterlife afternoon age aged agegap ageha agency agent agents ages agetransformation aggressive ago agree agreed agreement agrees agriculture ah ahead ai aid aikawa aim aiming aims air airi aizawa aka akane akari akatsuki aki akihito akio akira akito albert alchemist alcohol alex alice aliceinwonderland alicia alien aliens alike alive alley alliance allies allow allowed allows alluring alongside aloof alpha alphas alter alternate amamiya amane amano amazing ambition ambitions ambitious america american amidst amnesia amusement ancient ancientchina android androids angel angelic angels anger angry animal animalabuse animalcharacteristics animalprotagonists animals animaltransformation anime anna announces annoyed annoying answer answers anthologies anthropomorphic anti antics anxiety anxious anymore ao aoba aoi apart apartment apartmentlife apocalypse apocalyptic apologize app apparent apparently appear appearance appeared appearing appears appetite appointed apprentice apprenticeship approach approached approaches approaching arashi arata archery area aren arena aria arima arisa arise aristocrat arm armed armor arms army arranged arrangedmarriage arrangement arrival arrive arrived arrives arriving arrogant art artist artists arts asahi asahina asakura asami ash aside ask asked asking asks asleep aspiring ass assassin assassination assassins assault assigned assignment assist assistant association astronomy asuka asuna athletic atmosphere atsushi attached attack attacked attacking attacks attempt attempted attempting attempts attend attendant attending attends attention attitude attract attracted attraction attractive attracts audition aunt aura author autobiographies avatar avenge average avoid avoiding avoids await awaited awaits awaken awakened awakening awakens aware away awful awkward awoke aya ayame ayano ayato ayumi ayumu azuma azusa baby background bad badly baek bag bai bakery baking balance ball ballet ban band bandits banished bank bar bara barely bargained barrier bartender base baseball based basedonacartoon basedonadoujinshi basedonafairytale basedonalightnovel basedonamanga basedonamobilegame basedonananime basedonaneroge basedonanotomegame basedonanovel basedonavideogame basedonavisualnovel basedonawebnovel basically basis basketball bat bath bathroom battle battlefield battles battling bay bdsm beach bear bearing bears beast beasts beat beaten beating beats beauties beautiful beauty bed bedroom befriend befriends began begging begin beginning begins begs begun behavior beings believe believed believes believing bell belong belongs beloved beneath benefits bent best bestowed bet beta betrayal betrayed betrothed better bewildered bi big bigger biggest bike billion bind biological bird birds birth birthday bit bite bitter bittersweet bizarre bl black blackmail blade blessed blessing blind blond blonde blood blooded bloodline bloodthirsty bloody bloom blossom blossoms blow blue blunt bo board boardgames boarding boardinghouse boardingschool bodies body bodyguard bodyguards bodysharing bodyswapping bond bonds book books bookstore border borderlineh bored boredom boring born boss bother bothered bought bound bounty box boxer boxing boy boyfriend boys boysschool brain branch brand branded brash brave bread break breaking breaks breakup breasts breath brewing bride bridge bright brilliant bring bringing brings brink broke broken brothel brother brothercomplex brothers brought brutal brutally buddhism budding bug bugs build building built bullet bullied bullies bully bullying bumps bunch bunny burden bureau buried burn burned burning burst bus business businessman busty busy butler butlers butt buy buys cafe café cake calamity called calling calls calm came camera camp campus cancelled candidate candidates candy cannibalism cannon capable capital captain captivated capture captured car card cards care career carefree careful carefully cares caretaker caring carried carries carry carrying cars case cases cash cast castle casual cat catch catches catching cats caught cause caused causes causing cave celebrity celestial cell center centers centuries century ceo ceos ceremony certain certainly cha chain chairman challenge challenged challenges challenging champion chan chance chances chang change changed changes changing chaos chaotic chapter chapters character characters charge charged charismatic charlotte charm charmed charming charms chase chased chases chasing cheap cheat cheating cheats check cheerful chef chemistry chen cheng cheon cherry chest chi chiaki chibi chief chiharu chihiro chika child childcare childhood childhoodfriends childhoodpromise childish children china chinese chitose choi choice choices choose chooses chores chose chosen chris christmas chu chubby church circle circumstances cities citizens city civil civilization clad claim claimed claiming claims clan clans clash class classes classmate classmates classroom claude clean cleaning clear clearly clerk client clients cliff climb clinic clock close closed closer closest closet clothes clothing club clubs clue clueless clues clumsy coach code coexist coffee cohabitation coincidence coincidentally cold coldly collapsed collapses colleague colleagues collect collected collecting collection collections college collide color colors coma combat come comedy comes comfort comfortable comic comicessays comics coming comingofage command commander commands commit committed committee committing common commoner communicate community companion companions company compared compete competing competition complete completely complex complicated composed computer comrades concerned concubine condition conditions confess confessed confesses confessing confession confidence confident conflict conflicts confront confronted confused confusing confusion connect connected connection connections conquer conquered conquering conscious consciousness consequences consider considered consort conspiracies conspiracy constant constantly construction contact contain contained contains contemporaryfantasy content contest continent continue continued continues contract contrary contrast control controlled controlling convenience conveniencestore conversation convince convinced cook cooking cool cop cope core corner corporate corporation corpse corpses corrupt corruption cost costs couldn council count countless countries country countryside couple couples courage course court cousin cover covered coworker coworkers craft cram crash crashes crazy create created creates creating creation creative creator creature creatures creepy crew cries crime crimes criminal criminals crimson crippled crisis cross crossdressing crossed crossedlovers crosses crossing crossover crow crowd crown crude cruel crush crushed crushes crushing crying culinary culprit cult cultivate cultivation cultivator cultural culture cunning cure curiosity curious current currently curse cursed curtain customer customers cut cute cutest cutting cyborg cyborgs cycle da dad daddy dai daichi daigo daiki daily daisuke damage dan dance dancer dancing danger dangerous dangers daniel dare dark darkcomedy darkest darkfantasy darkness dashing date dates dating daughter daughters dawn day days dazzling dead deadly deal dealing deals dealwiththedevil dear death deathofalovedone deaths debt debts debut decade decades deceased decide decided decides deciding decision declared declares dedicated deed deeds deep deeper deeply defeat defeated defeating defeats defend defense definitely defy deity delicate delicious delinquent delinquents deliver delivery demanding demands demeanor demise demon demonic demonking demons department depressed depths descendant descendants desert deserted design designed designer desire desires desk despair desperate desperately despised despite destined destiny destroy destroyed destroying destruction details detective detectives determination determine determined devastated devastating develop developed developing development develops devil devilish devils devoted devotion diary did didn die died dies difference differences different differently difficult difficulties difficulty dilemma diligent dimension dimensional dimensions dinner dire direct direction directly director dirty disability disappear disappearance disappeared disappears disaster disastrous disciple discover discovered discovering discovers discovery disease disguise disguised dislike dismay disney disorder distance distant distinguished distress district disturbed disturbing divided divine division divorce divorced doctor doctors does doesn dog dogs doing dojo doll dolls domesticabuse dominated domination domineering don dong doomed door doorstep dorm dormitory doting double doubt doubts doujinshi dovey dr drag dragged dragon dragons drama dramatic draw drawing drawn draws dream dreamed dreaming dreams dress dressed dresses dressing drink drinking drinks drive driven driver drives driving drop dropped drops drowning drug drugs druguse drunk drunken dubbed duchess duel duke dull dumped dungeon dungeons duo duties duty dying dynasty dysfunctionalfamilies dystopia eager earl earlier early earn earned earnest earning ears earth earthquake ease easier easily east eastern easy easygoing eat eaten eating eats eccentric ecchi ed eden edge editor editors edo education educational edward effect effects effort efforts egg eiji elder elderly eldest elegant elementalpowers elementary elements elena elf elite elves embark embarks embarrassed embarrassing embrace emerge emerges emotion emotional emotionalabuse emotions emperor empire employed employee employeerelationship employees employer employment empress en encounter encountered encountering encounters end ended ending endless ends endure enduring enemies enemy energetic energy engage engaged engagement england english enigmatic enjoy enjoyed enjoying enjoys enlists enormous enroll enrolled enrolls ensues ensure entangled enter entered entering enters entertainment enthusiasm enthusiastic entire entirely entrance entrusted entry environment epic episodic equal equally equipment equipped er era erika erotic escape escaped escapes escaping escort especially established estate esteem eternal eternity eun eunuch europe eve evening event events eventually everybody everyday evidence evil ex exact exactly exam exams excellent exception exceptional exceptionally exchange excited excitement exciting exclusive excuse executed execution exhausted exiled exist existed existence exists exorcist exorcists expect expectations expected expecting expects expelled expensive experience experienced experiences experiencing experiment experiments expert explains explicitsex explicitviolence explore exploring exposed express expression exterior extinction extra extraordinary extreme extremely eye eyed eyes facade face faced faces facility facing fact faction factory fail failed failing fails failure fair fairies fairly fairy fairytale fake fakeromance fall fallen falling falls false fame famed familiar families family familyfriendly familylife famous fan fancy fang fans fantasies fantastic fantastical fantasy far farm fascinated fashion fast faster fat fatal fate fated fatedlovers fateful fates father fault favor favorite fear feared fears fearsome features featuring fed federation feed feeding feeds feel feeling feelings feels feet fei feisty fell fellow felt female feminine fend feng festival fetish feudal feudaljapan fever fiance fiancee fiancé fiancée fiction fictional field fields fierce fiery fifth fight fighter fighters fighting fights figure figures filled film final finally financial finding finds fine finger fingers finish finished fired firm firmly fish fishing fist fit fix flag flame flames flash flashy flat flawless fled flee fleet flesh flirt flirting floating floor flow flower flowers fluffy flustered fly flying focus focuses fodder foe foes follow followed followers following follows fond food foodandbeverage fool foolish foot footsteps forbidden force forced forcefully forces forcibly forcing foreign forest forever forget forgotten form formed formidable forms forth fortunately fortune forward foster fought fourteen fourth fox frail framed france freak free freedom freely french frequently fresh freshman friend friendly friends friendship friendships frightening frog frontier frozen frustrated frustration fudanshi fujiwara fujoshi fulfill fulfilled fulfilling fullcolor fully fumi fun funeral funny furthermore futaba future ga gag gain gained gaining gains gaku gal galactic galaxy gambling game gamer gamers games gaming gang gangs gangster gap garden gate gather gathered gathering gathers gave gay gaze gender genderbender general generally generation generations genius geniuses gentle gentleman gently germany gets getting ghost ghosts gi giant gift gifted gifts girl girlfriend girlfriends girls girlsschool given gives giving gl glance glasses glimpse global globe gloomy glory goal goals goblin god goddess gods goes going goku gold golden gone gong gonna good goodbye goods gorgeous got gotten government grace grade grader grades gradually graduate graduated graduating graduation grail grand granddaughter grandfather grandma grandmother grandpa grandson grant granted grants grasp gratitude grave great greater greatest greatly greed greekmythology green greeted grew grim groom ground group groups grow growing grown grows growth gruesome gu guard guardian guardians guards guess guest guidance guide guild guilds guilt guilty gun gundam guns guy guys gyaru gym ha habit habits hades hae hair haired hajime half hall han hana hand handed handle hands handsome handtohandcombat hang hanging hangs hao happen happened happening happens happily happiness happy hara harassed harbors hard hardcore harder hardest hardly hardships hardworking harem harlequin harm harmony harsh haru haruhi haruhiko haruka haruki haruma haruna haruno haruomi haruto hasegawa hasn hate hated hates hatred haunt haunted haunting haunts haven having havoc hayama hayate hayato head headed heading heads heal healer healing health healthy hear heard hearing hears heart heartbreak heartbroken hearted heartless hearts heartwarming heat heaven heavenly heavens heavy hee heels height heir heiress held hell help helped helping helpless helps henry henshinheroes hero heroes heroic heroine hesitation hey hiatus hibiki hidden hide hides hiding high higher highest highly highness highschool highstakesgames hiiragi hikari hikaru hilarious hime hina hinako hinata hino hire hired hires hiro hiroki hiromi hirose hiroshi hiroto historical history hit hitman hitomi hits hiyori ho hobby hokkaido hokuto hold holding holds hole holy home homeland homeless homeroom hometown homura honda honest honey hong honor hope hoped hopeless hopes hoping horizon horrible horrific horror horse hoshino hospital host hostage hostess hostile hosts hot hotaru hotel hotelsandinns hottest hottie hour hours house household housekeeper housewife housework hua huge huh human humanexperimentation humanity humankind humanoid humanprotagonists humanrelationship humans humble hundreds hunger hungry hunt hunted hunter hunters hunting hurt husband hwa hwan hybrid hye hyuk hyun hyung ian ibuki ice ichi ichigo ichika ichiko ichinose idea ideal identical identity idol idols ignore ignored ii ikemen ikumi il ill illegal illegitimate illness illusion image imagination imagine imagined immediately immense immortal immortality immortals imperial impersonation importance important importantly impossible impressed impression imprisoned improve inability inadvertently incest incident incidents included includes including incompetent increased increasingly incredible incredibly incubus independence independent indifferent individual individuals indonesiancomics industry inevitable inexperienced inexplicably infamous infatuated infected infidelity infinite influence information informs inhabitants inhabited inherit inheritance inherited initial initially injured injury inn inner innocence innocent insane insects insecure inseparable inside insists inspiration inspired instant instantly instead instincts institute institution instructor intact intelligence intelligent intended intends intense intent intention intentions interact interested interesting interests international internet interspeciesrelationship intertwine intertwined interview intimate intimidating intrigue intrigued introduced introduces introverted invaded invaders invading invasion investigate investigating investigation investigator invincible invisible invitation invited invites involve involved involves involving iori iris iron isekai island isn isolated issue issues italy item items ito itsuki iyashikei izumi jack jade jae jaehee japan japanese japanesemythology jealous jealousy jeong jerk jewel ji jian jiang jiho jin jing jiu jo job jobless jobs john join joined joining joins joke joo jooin joon josei journey joy ju jump jumps jun jung jungle junior just justice kaede kagami kagura kaguya kai kairi kaito kaji kakeru kana kanade kanae kaname kanata kang kanon kanou kanzaki kaori kaoru karasuma karate karen karin kasumi katou katsuragi kazama kazuha kazuki kazuma kazumi kazushi kazuya keeping keeps kei keigo keiichi keisuke keita ken kendo kengo kenji kento kept key ki kick kicked kid kidnapped kidnapping kids kiichi kijima kill killed killer killers killing kills kim kind kindergarten kindly kindness kinds king kingdom kingdombuilding kingdoms kings kirishima kirito kisaragi kiss kissed kisses kissing kitchen kitten kiyo knew knife knight knights knocks know knowing knowledge known knows kobayashi koga koharu kohei kokoro koma komori kon korea korean kosuke kou kouga kouhai kouhairelationship kouichi kouki kousuke kouta koutarou koyomi kun kuro kurokawa kurosawa kurumi kuze kyle kyoichi kyosuke kyoto kyou kyouko kyousuke kyung lab labyrinth lack lacking lacks ladies lady laid lake lan land landed landlord landlords lands landscape lang language large largest late lately later latest laugh law laws lawyer lawyers lay lazy lead leader leaders leading leads league learn learned learning learns leave leaves leaving led lee left leg legacy legend legendary legends legs leisurely leo leon lesbian lesson lessons let lets letter letters letting level levels lewd lgbtthemes li liang library lie lies life lifelong lifestyle lifestylechange lifetime light lightning lightnovels lights like liked likes liking lily limit limited limits lin lina line lineage lines ling lingering link lion lips list listen literally literature little liu live lived lively lives living ll loan local located location locked locker london lone loneliness lonely loner long longed longer longing longs look looked looking looks loose lord lords lose loser loses losing loss lost lot lots loud louis love loveconfession loved lovely lover lovers loves lovetriangle lovey loving low lower lowest lowly loyal loyalty lu luca lucia luck luckily lucky lucy luna lunch luo lurking lust luxurious luxury lying machine machines mad madly madness madoka mafia magazine mage mages magic magical magicalgirl magician magicians magicschool mahiro mahjong mai maid maiden maids main maintain majesty major make maker makes makeup maki making mako makoto male males mamoru man mana manage managed management manager manages managing manga mangaindustry mangaka manhua manhwa mankind manly manner mannered manor mansion mao mari maria marie mariko mark marked market marks marquis marriage married marriedlife marry marrying martial martialarts mary masaki masamune masaru masato mascot mashiro mask masked massive master masters masumi match mate material math matsuri matter matters mature matureromance maturethemes max maya maybe mayu mc meal meals mean meaning means meant meat mecha mechanical media medical medicine medieval mediocre meet meeting meets megumi meguru mei meiji melancholy melt member members memories memory men mental mentalillness mention mentor mercenaries mercenary merchant merciless mercy mere merely mermaid mermaids mess message messenger messy met metal method methods mi michael michiru mid middle middleeastern midnight midori midst mighty miharu mika mikado miki mikoto miku military milk million mimi mimori min mina minami minato mind minded minds ming minister minor minori minoru minute mio miracle miraculous mirai mirror misaki mischievous miserable misery misfortune miss missed missing mission missions mistake mistaken mistakenly mistakes mistress misunderstanding misunderstandings misunderstood mitsu mitsuki mitsuru miu mix mixed miyabi miyako miyuki mizuho mizuki mizuno mmorpg mo mob mobile mochizuki mode model modeling modelling modern modernknowledge modest mom moment moments momo momoka momoko monarch money monk monster monstergirls monsters monsterschool monstrous month months mood moon moonlight morals morning mortal mother motion motive motives motorcycle motto mountain mountains mouth moved moves movie movies moving mr ms mu mugi multiple mundane murakami murder murdered murderer murderous murders murim music musical musician mute mutual mysteries mysterious mysteriously mystery mystical mythical na nachi nagi nagisa naive nakamura naked nam named names nan nana nanako nanami nanao nanase nao naoki naoto naoya narumi naruse naruto nation national nations natsu natsuki natsume natsumi natsuo natural naturally nature naughty navigate naïve near nearby nearly necessary neck need needed needs neet nefarious neglected neighbor neighborhood neighboring neighbors neighbour nemesis neo nephew nerdy nervous new newbie newcomer newest newfound newly news nice nickname nicknamed night nightmare nightmares nights nightstand nina ning ninja noah nobility noble nobleman nobles noblewoman noboru nobunaga noel non nonsense normal normally north northern note notebook notice noticed notices notorious novel novelist novels novice nozomi npc nudity number numerous nun nurse nurses object objects oblivious obsessed obsession obsessive obstacles obtain obtained obvious occasionally occult occur occurred occurs ocean oda odd odds oel offer offered offering offers office officer official oh okay okinawa old older omega omegas omegaverse ones oneshot oni online open opened opening openly opens operation opponent opponents opportunity opposite opposites oppositesattract optimistic option order ordered orders ordinary organization origin original originally orphan orphanage orphaned orphans osaka osamu otaku otakuculture otherworldly otome otomegame outcast outerspace outgoing outrageous outside outstanding overbearing overcome overflowing overlord overly overnight overpoweredmaincharacters overprotective overseas overtime overwhelmed overwhelming owned owner owners owns oz pace pack packed pact pages paid pain painful painter painting pair paired palace pampered pandemic panic panties pants pantyshots paper paradise parallel paranormal parent parents paris park parody participate particular particularly parties partner partners parts party pass passed passes passing passion passionate past pasts path paths patient patients pay paying pays peace peaceful peacefully peach peak peculiar peerless peers pen people perfect perfectly perform performance period persistent person persona personal personalities personality personinastrangeworld perspective pervert perverted pet pets phantom pheromones phoenix phone photo photographer photography photos physical physicalabuse physically pianist piano pick picked picking picks picture pictures piece pieces pig pillconcocting pilot pilotchapter pilots pirate pirates pitiful place placed places plague plagued plain plan plane planet planned planning plans plant plants play playboy playboys played player players playing playordie plays pleasure pleasures plenty plot plots plotting plus point points poison poisoned pokemon pokémon polar police political polyamory poor pop popular popularity population porn position positive possess possessed possesses possessing possession possible possibly post potential potion potions pounding poverty power powered powerful powerless powers powersuits practically practice practicing precious prefers pregnancy pregnant prepare prepared prepares preparing prequel presence present presents president pressure prestigious pretend pretending pretends pretty prevent previous previously prey price pride priest priestess prime prince princes princess princesses principal prison prisoner private prize pro probably problem problems process proclaimed prodigy produce production profession professional professor profile program progress project promise promised promises promising promptly proper properly property prophecy proposal proposed proposes proposition prosperity prosperous prostitute prostitution protagonist protagonists protect protected protecting protection protective protector protects proud prove proves provide prowess psychic psychicpowers psychological psychopaths public pull pulled pulls punishment puppy pure purpose pursue pursued pursuing pursuit push pushed pushes pushing puts putting pvp qi qian qiao qin qing queen quest question questions quick quickly quiet quietly quirky quit quite quits rabbit rabbits race races racing rage raging raid rain rainy raise raised raising rampant ran random range rank ranked ranking ranks rapidly rare rarely rate ray reach reached reaches reaching react reaction read readers reading ready real realistic reality realization realize realized realizes realizing really realm realms reaper reason reasons rebel rebellion rebellious rebirth reborn receive received receives receiving recent recently reckless reclaim recognize recognized recognizes record recover recruit recruited recruits red redemption refuge refuse refused refuses regain regains regarded regarding regardless region regret regrets regular regularly rei reign reiji reiko reina reincarnate reincarnated reincarnates reincarnating reincarnation reject rejected rejects related relations relationship relationships relative relatively relatives release released relentlessly reliable relic relief religion reluctant reluctantly rely remain remained remaining remains remarriage remarried remember remembered remembers remote remove ren rena renowned rent repair repay repeat repeatedly replaced replacement reporter representative republic reputation request requests required requires rescue rescued rescues research researcher resembles reserved residence resident residents resist resistance resolve resolved resolves resources respect respected respond response responsibility responsible rest restaurant restaurants restore result resulting results retired retrieve return returned returning returns reunion reunite reunited reunites reveal revealed reveals revenge revered reverse reverseharem reverseisekai revive revived revolution revolves reward rice rich richest rid ride ridiculous riding right righteous rights rihito rika riko riku rin rina ring rings rinko rio risa rise rises rising risk ritsu ritual rival rivalry rivals river road roam robot robots rock rogue role roles romance romantic romanticcomedy rong roof rooftop rookie room roommate roommates rose rough round route routine royal royalty rpg rude rui ruin ruined ruins rule ruled ruler rules rumor rumored rumors run runaway running runs rural ruthless ryo ryoma ryota ryou ryousuke ryouta ryu ryuji ryunosuke ryuu ryuuji sa sachi sacred sacrifice sacrificed sad sadistic sadness sae saeki safe safely safety saga sagara sage said saint saito saitou sakaki sake saki saku sakuma sakura sakurai sakuya salary salaryman sales salon salvation sama samurai san sanada sang sano saotome sara sasaki satan satisfied satisfy sato satomi satoru satoshi satou satsuki save saved saves saving savior saw say saya saying says scale scandal scar scared scars scary scenario scene scenes scent scheme schemes scheming scholar school schoolclub schooler schoolgirl schoollife schoolmate schools science scientist scifi score screen script sea seal sealed search searches searching seaside season seasons seat secluded second secondchance secret secretary secretidentity secretive secretly secrets sect section secure security seduce seductive seeds seeing seek seeking seeks seemingly seen sees sei seiichi seiji seinen select selected self selfish sell selling sells sempai sena send sending sends sengoku senior senpai sense sensei senses sensitive sensual sent sentenced seo seong seoul separate separated sera serial serialkillers series seriously serizawa servant servantrelationship servants serve served serves service services serving set seto sets setting settle settled seung seven seventeen sex sexual sexualabuse sexualcontent sexuality sexually sexy shadow shadows shady shake shall shaman shame shao shape shaped share shared shares sharing shark sharp shattered sheep sheer sheikhs shelter sheltered shen sheng shi shiba shibuya shield shift shiina shiki shima shin shine shingo shinichi shinigami shining shinji shino shinobu shinomiya shinonome shinya shion shiori ship shiro shirou shizuka shizuku sho shock shocked shocking shoes shoot shooting shop shopping short shortly shot shota shou shougo shoujo shoulder shouldn shounen shouta showbiz showed showing shown shows shrine shu shuichi shuji shun shunned shuri shut shuu shy si sibling siblings sick sickly sickness sided sides sight sights sign signs silence silent silly silver similar simon simple simply sin sing singer singing single singleparent sinister sins sister sisters sit site sits sitting situation situations sixteen sixth size sized skeletons skies skill skilled skillful skills skin skip skirt sky slapstick slaughter slave slaves slay slayer sleep sleeping sleeps slept slice sliceoflife slightly slime slimes slow slowlife slowly small smart smell smile smiles smiling smitten smoke smooth smut snake sneaks snow soccer social socialgap socially socialmedia society soft solace sold soldier soldiers sole solitary solitude solution solve solving someday somewhat son song sons soo soon sophomore sora sorcerer sorceress sorcery sorrow sorrows sorry sort sorts sou sought soul souls souma sound sounds source soushi sousuke souta south southern space spaceship spare spark sparks speak speaking speaks special specializes species speed spell spells spend spending spends spent spider spin spirit spirited spirits spiritual spite split splitpersonality spoiled spoken spoon sport sports spot spots spread spring springs spy squad st stable staff stage stakes stalker stalkers stalking stand standing stands star staring stars start started starting starts state states station stats status stay staying stays steal stealing steals steamy step stepmother stepped steps stepsister stick stir stoic stole stolen stomach stone stood stop stopped stops store stories storm story straight straightforward stranded strange strangely stranger strangers strategy stray street streets strength stress strict strike strikes striking string strings strives strong stronger strongest strongly struck struggle struggled struggles struggling stubborn stuck student studentcouncil students studies studio study studying stuff stuffed stumbled stumbles stunning stupid style su sub subaru subject subordinate substitute succeed succeeded success successful successfully successor succubus sucked sudden suddengirlfriendappearance suddenly sudou suffer suffered suffering suffers suggestion suggests sui suicide suit suitors suits sumire summer summon summoned summonedintoanotherworld summoner summoning summons sun sung sunny super superheroes superhuman superior supernatural superpowers superstar support supporting supposed supposedly suppress supreme sure surely surface surgeon surgery surprise surprised surprises surprising surprisingly surrounded surrounding surroundings survival survive survived survives surviving survivor survivors suspect suspected suspects suspicious suzu suzuki swears sweet sweetheart sweets swept swim swimming switch switched sword swordplay swords swordsman swore sworn synopsis systemadministrator table tables tachibana tae taichi taiga tail takagi takahashi takanashi takano takao takara takashi takatsuki takaya taken takeru takes taking takuma takumi takuya tale talent talented talents tales talk talking talks tall tamaki tame tan tanaka tang tangled target targeted targets taro task tasked tasks taste tastes tasuku tatsuki tatsumi tatsuya tattoo taught tea teach teacher teacherrelationship teachers teaches teaching team teammates teams tear tears teased teasing technique techniques technology teen teenage teenager teenagers teeth tell teller telling tells temper tempered temple temporary tender tends tengu tennis tension teppei term terms terrible terribly terrified terrifying territory terror terrorist terrorists test tests thank thanks theo thief thieves thing things think thinking thinks thirst thirteen thirty thought thoughts thousand thousands threat threaten threatened threatening threatens threats thrilled thriller thrilling throne throw throwing thrown throws thrust thugs tian ticket tied tier ties tiger tight till time timer times timetravel timid tiny tired title today tohru tokyo told toma tomboy tomo tomoaki tomoe tomoki tomorrow tomoya tong tongue took tool tooru tormented torn torture tortured toru total totally touch touched touches touching toudou tough touji touma tournament tournaments towa tower town toy toys track tracks trade traditional traffic tragedy tragic tragically train trained trainee trainer training trains transfer transferred transferring transfers transferstudents transform transformation transformed transforms transmigrated transported transportedintoanovel trap trapped trappedinavideogame trash trauma traumatic traumatized travel traveled traveling travelled travelling travels treason treasure treasures treat treated treatment treats tree trees trial trials triangle tribe tribulations trick tricked tricks tried tries trio trip trouble troubled troublemaker troubles troublesome troupe truck true truly trust trusted truth try trying tsubaki tsubame tsubasa tsugumi tsukasa tsundere tsuzuki turmoil turn turned turning turns tutor tutors tv twice twilight twin twins twist twisted twists type types typical tyrant ugly ulterior ultimate ultimately ultra umi unable unaware unbeknownst unbelievable uncle unconscious uncover undead underground understand understanding understands underwear underworld unemployed unexpected unexpectedly unfamiliar unfold unfolds unfortunate unfortunately unhappy uniform union unique unit united universe university unknowingly unknown unless unlike unlikely unlock unlucky unpleasant unpopular unprecedented unpredictable unravel unrequited unrequitedlove unrivaled unsociable unusual unwanted unwilling upcoming upper upperclassman ups upside urban urbanfantasy urges usami use used useless user users uses using usual usually utterly vacation vain valuable value values vampire vampires vanished variety various vast ve vengeance venture verge version veteran veterinarians vice vicious victim victims victor victory video view village villagers villain villainess villainous villains violence violent violently violin virgin virginity virtual virtualreality virus vision visit visited visiting visits voice voices volleyball volume vow vowed vows vr vrmmo vs wacky wait waiting wake wakes waking walk walking walks wall walls wan wander wandering wanders wang want wanted wanting wants war warm warmth warning warrior warriors wars wasn waste wasteland wataru watch watched watches watching water way ways weak weakest weakness weaktostrong wealth wealthy weapon weapons wear wearing wears weather web webnovels website webtoons wed wedding week weeks wei weight weird welcome wen went weren werewolf werewolves west western wet whilst whim whisked white wicked wide wield wielding wife wild william willing win wind window winds wine wing winged wings winner winning wins winter wiped wisdom wise wish wished wishes wishing wit witch witches witness witnessed witnesses witnessing wits wizard wizards woke wolf wolves woman women won wonder wonderful wondering wonderland wonders woo woods woojin woon word words work worked worker workers working worklife workplace works world worldhopping worlds worldwar2 worried worries worry worse worst worth worthy wouldn wounded wounds wrapped wrestling write writer writers writes writing written wrong wrote wu xi xia xianxia xiao xie xing xiu xu xuan yakumo yakuza yamada yamato yan yang yankee yao yaoi yaoihandsyndrome yard yayoi ye year yearns years yen yeon yeonwoo yes yi yin ying yoh yoichi yokai yoo yoon york yoshino youichi youkai young younger youngest youth yu yuan yue yugi yui yukari yuki yukimura yukino yukio yul yume yumi yun yuna yura yuri yuta yutaka yuto yuu yuuji yuuki yuuma yuuri yuusuke yuuta yuuto yuuya yuzu yuzuki yuzuru zeon zero zhang zhao zhi zhou zombie zombies zone zoo "
          ]
        }
      ],
      "source": [
        "for i in vectorizer.get_feature_names_out():\n",
        "  print(i, end=\" \")"
      ]
    },
    {
      "cell_type": "markdown",
      "source": [
        "Stemming to convert multiple forms of verbes into one"
      ],
      "metadata": {
        "id": "gSZnY4XiQS7-"
      }
    },
    {
      "cell_type": "code",
      "execution_count": 19,
      "metadata": {
        "id": "QNTUUcWPGVMm"
      },
      "outputs": [],
      "source": [
        "from nltk.stem.porter import PorterStemmer\n",
        "ps = PorterStemmer()"
      ]
    },
    {
      "cell_type": "code",
      "execution_count": 20,
      "metadata": {
        "id": "Si6WyfMrGfed"
      },
      "outputs": [],
      "source": [
        "def stemming(text):\n",
        "  y = []\n",
        "  for i in text.split():\n",
        "    y.append(ps.stem(i))\n",
        "  return \" \".join(y)"
      ]
    },
    {
      "cell_type": "code",
      "execution_count": 21,
      "metadata": {
        "id": "UShbfCgkGlzl"
      },
      "outputs": [],
      "source": [
        "new_df['overview'] = new_df['overview'].apply(stemming)"
      ]
    },
    {
      "cell_type": "markdown",
      "source": [
        "Calculate the nearest vectors which are to be recommended as they will contain like wise content - tags"
      ],
      "metadata": {
        "id": "rTXps-sFQJIW"
      }
    },
    {
      "cell_type": "code",
      "execution_count": 22,
      "metadata": {
        "id": "-rSdN7ELJ_Sr"
      },
      "outputs": [],
      "source": [
        "from sklearn.metrics.pairwise import cosine_similarity"
      ]
    },
    {
      "cell_type": "code",
      "execution_count": 23,
      "metadata": {
        "id": "TLJWkNgYKAPd",
        "colab": {
          "base_uri": "https://localhost:8080/"
        },
        "outputId": "2626b150-45c6-445c-c4ab-a38c603dc294"
      },
      "outputs": [
        {
          "output_type": "execute_result",
          "data": {
            "text/plain": [
              "array([[1.        , 0.21147747, 0.        , ..., 0.06201737, 0.        ,\n",
              "        0.19611614],\n",
              "       [0.21147747, 1.        , 0.10461316, ..., 0.03409972, 0.06745406,\n",
              "        0.16174916],\n",
              "       [0.        , 0.10461316, 1.        , ..., 0.        , 0.07585826,\n",
              "        0.        ],\n",
              "       ...,\n",
              "       [0.06201737, 0.03409972, 0.        , ..., 1.        , 0.03296902,\n",
              "        0.07905694],\n",
              "       [0.        , 0.06745406, 0.07585826, ..., 0.03296902, 1.        ,\n",
              "        0.0521286 ],\n",
              "       [0.19611614, 0.16174916, 0.        , ..., 0.07905694, 0.0521286 ,\n",
              "        1.        ]])"
            ]
          },
          "metadata": {},
          "execution_count": 23
        }
      ],
      "source": [
        "similarity = cosine_similarity(vectors)\n",
        "similarity"
      ]
    },
    {
      "cell_type": "code",
      "execution_count": 29,
      "metadata": {
        "id": "Dird6aFfKAwQ"
      },
      "outputs": [],
      "source": [
        "def recommendation():\n",
        "  comic_name = 'Level Up with the Gods'  #input('Enter the name of the comic: ')\n",
        "  comic_id = new_df[new_df['title'] == comic_name].index[0]\n",
        "  distances = similarity[comic_id]\n",
        "  comics_list = sorted(list(enumerate(distances)), reverse=True, key=lambda x: x[1])[1:11]\n",
        "  for i in comics_list:\n",
        "    print(new_df.iloc[i[0]].title, new_df.iloc[i[0]].cover)"
      ]
    },
    {
      "cell_type": "code",
      "source": [
        "recommendation()"
      ],
      "metadata": {
        "colab": {
          "base_uri": "https://localhost:8080/"
        },
        "id": "YvsKi_t4SAQm",
        "outputId": "66f52190-ad5f-4578-fc3f-198bb996f050"
      },
      "execution_count": 31,
      "outputs": [
        {
          "output_type": "stream",
          "name": "stdout",
          "text": [
            "I Log In Alone - Part 3 https://cdn.anime-planet.com/manga/primary/i-log-in-alone-part-3-1-285x399.webp?t=1641652200\n",
            "Tale of a Scribe Who Retires to the Countryside - Part 2 https://cdn.anime-planet.com/manga/primary/tale-of-a-scribe-who-retires-to-the-countryside-part-2-1-285x400.jpg?t=1632101617\n",
            "LV999 no Murabito (Light Novel) https://cdn.anime-planet.com/manga/primary/lv999-no-murabito-light-novel-1-190x270.jpg?t=1625916095\n",
            "Infectee https://cdn.anime-planet.com/manga/primary/infectee-1-190x297.jpg?t=1625914726\n",
            "Leveling with the Gods (Novel) https://cdn.anime-planet.com/manga/primary/leveling-with-the-gods-novel-1-285x386.jpg?t=1628029003\n",
            "The Road of Karma https://cdn.anime-planet.com/manga/primary/the-road-of-karma-1-190x269.jpg?t=1625920635\n",
            "The Frozen Player Returns https://cdn.anime-planet.com/manga/primary/the-frozen-player-returns-1-285x399.webp?t=1647320859\n",
            "I Log In Alone - Part 2 https://cdn.anime-planet.com/manga/primary/i-log-in-alone-part-2-1-190x266.jpg?t=1625929751\n",
            "Tower of God - Part 3 https://cdn.anime-planet.com/manga/primary/tower-of-god-part-3-1-190x266.jpg?t=1625921019\n",
            "The Hero Returns https://cdn.anime-planet.com/manga/primary/the-hero-returns-1-285x399.webp?t=1646314146\n"
          ]
        }
      ]
    }
  ],
  "metadata": {
    "colab": {
      "provenance": []
    },
    "kernelspec": {
      "display_name": "Python 3",
      "name": "python3"
    },
    "language_info": {
      "name": "python"
    }
  },
  "nbformat": 4,
  "nbformat_minor": 0
}